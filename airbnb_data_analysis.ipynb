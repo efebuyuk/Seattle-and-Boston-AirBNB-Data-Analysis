{
 "metadata": {
  "language_info": {
   "codemirror_mode": {
    "name": "ipython",
    "version": 3
   },
   "file_extension": ".py",
   "mimetype": "text/x-python",
   "name": "python",
   "nbconvert_exporter": "python",
   "pygments_lexer": "ipython3",
   "version": "3.9.1"
  },
  "orig_nbformat": 2,
  "kernelspec": {
   "name": "python391jvsc74a57bd0330a04bcc02bd70e0e7c3b082b35cb6365c0d1be7b1de89feed4c5730f870e33",
   "display_name": "Python 3.9.1 64-bit ('DataAnalysis': conda)"
  }
 },
 "nbformat": 4,
 "nbformat_minor": 2,
 "cells": [
  {
   "cell_type": "code",
   "execution_count": 127,
   "metadata": {},
   "outputs": [],
   "source": [
    "\"\"\"\n",
    "Project: Seattle and Boston AirBNB Data Analysis\n",
    "\"\"\"\n",
    "\n",
    "# Load libraries\n",
    "import pandas as pd\n",
    "import numpy as np"
   ]
  },
  {
   "cell_type": "code",
   "execution_count": 128,
   "metadata": {},
   "outputs": [],
   "source": [
    "# Read csv files for both Seattle and Boston\n",
    "boston_calendar_df = pd.read_csv(r'D:\\GitHub\\Seattle-and-Boston-AirBNB-Data-Analysis\\data\\boston-calendar.csv')\n",
    "boston_listings_df = pd.read_csv(r'D:\\GitHub\\Seattle-and-Boston-AirBNB-Data-Analysis\\data\\boston-listings.csv')\n",
    "boston_reviews_df = pd.read_csv(r'D:\\GitHub\\Seattle-and-Boston-AirBNB-Data-Analysis\\data\\boston-reviews.csv')\n",
    "seattle_calendar_df = pd.read_csv(r'D:\\GitHub\\Seattle-and-Boston-AirBNB-Data-Analysis\\data\\seattle-calendar.csv')\n",
    "seattle_listings_df = pd.read_csv(r'D:\\GitHub\\Seattle-and-Boston-AirBNB-Data-Analysis\\data\\seattle-listings.csv')\n",
    "seattle_reviews_df = pd.read_csv(r'D:\\GitHub\\Seattle-and-Boston-AirBNB-Data-Analysis\\data\\seattle-reviews.csv')"
   ]
  },
  {
   "cell_type": "code",
   "execution_count": 129,
   "metadata": {},
   "outputs": [
    {
     "output_type": "stream",
     "name": "stdout",
     "text": [
      "boston_calendar_df's shape: (1308890, 4)\nboston_listings_df's shape: (3585, 95)\nboston_reviews_df's shape: (68275, 6)\nseattle_calendar_df's shape: (1393570, 4)\nseattle_listings_df's shape: (3818, 92)\nseattle_reviews_df's shape: (84849, 6)\n"
     ]
    }
   ],
   "source": [
    "# Print dataframes' shapes\n",
    "print(\"boston_calendar_df's shape: {}\".format(boston_calendar_df.shape))\n",
    "print(\"boston_listings_df's shape: {}\".format(boston_listings_df.shape))\n",
    "print(\"boston_reviews_df's shape: {}\".format(boston_reviews_df.shape))\n",
    "print(\"seattle_calendar_df's shape: {}\".format(seattle_calendar_df.shape))\n",
    "print(\"seattle_listings_df's shape: {}\".format(seattle_listings_df.shape))\n",
    "print(\"seattle_reviews_df's shape: {}\".format(seattle_reviews_df.shape))"
   ]
  },
  {
   "cell_type": "code",
   "execution_count": 130,
   "metadata": {},
   "outputs": [
    {
     "output_type": "execute_result",
     "data": {
      "text/plain": [
       "Index(['id', 'listing_url', 'scrape_id', 'last_scraped', 'name', 'summary',\n",
       "       'space', 'description', 'experiences_offered', 'neighborhood_overview',\n",
       "       'notes', 'transit', 'access', 'interaction', 'house_rules',\n",
       "       'thumbnail_url', 'medium_url', 'picture_url', 'xl_picture_url',\n",
       "       'host_id', 'host_url', 'host_name', 'host_since', 'host_location',\n",
       "       'host_about', 'host_response_time', 'host_response_rate',\n",
       "       'host_acceptance_rate', 'host_is_superhost', 'host_thumbnail_url',\n",
       "       'host_picture_url', 'host_neighbourhood', 'host_listings_count',\n",
       "       'host_total_listings_count', 'host_verifications',\n",
       "       'host_has_profile_pic', 'host_identity_verified', 'street',\n",
       "       'neighbourhood', 'neighbourhood_cleansed',\n",
       "       'neighbourhood_group_cleansed', 'city', 'state', 'zipcode', 'market',\n",
       "       'smart_location', 'country_code', 'country', 'latitude', 'longitude',\n",
       "       'is_location_exact', 'property_type', 'room_type', 'accommodates',\n",
       "       'bathrooms', 'bedrooms', 'beds', 'bed_type', 'amenities', 'square_feet',\n",
       "       'price', 'weekly_price', 'monthly_price', 'security_deposit',\n",
       "       'cleaning_fee', 'guests_included', 'extra_people', 'minimum_nights',\n",
       "       'maximum_nights', 'calendar_updated', 'has_availability',\n",
       "       'availability_30', 'availability_60', 'availability_90',\n",
       "       'availability_365', 'calendar_last_scraped', 'number_of_reviews',\n",
       "       'first_review', 'last_review', 'review_scores_rating',\n",
       "       'review_scores_accuracy', 'review_scores_cleanliness',\n",
       "       'review_scores_checkin', 'review_scores_communication',\n",
       "       'review_scores_location', 'review_scores_value', 'requires_license',\n",
       "       'license', 'jurisdiction_names', 'instant_bookable',\n",
       "       'cancellation_policy', 'require_guest_profile_picture',\n",
       "       'require_guest_phone_verification', 'calculated_host_listings_count',\n",
       "       'reviews_per_month'],\n",
       "      dtype='object')"
      ]
     },
     "metadata": {},
     "execution_count": 130
    }
   ],
   "source": [
    "boston_listings_df.columns"
   ]
  },
  {
   "cell_type": "code",
   "execution_count": 131,
   "metadata": {},
   "outputs": [
    {
     "output_type": "execute_result",
     "data": {
      "text/plain": [
       "0                       Sunny Bungalow in the City\n",
       "1                Charming room in pet friendly apt\n",
       "2                 Mexican Folk Art Haven in Boston\n",
       "3    Spacious Sunny Bedroom Suite in Historic Home\n",
       "4                              Come Home to Boston\n",
       "Name: name, dtype: object"
      ]
     },
     "metadata": {},
     "execution_count": 131
    }
   ],
   "source": [
    "pd.set_option('display.max_columns', None)\n",
    "boston_listings_df['name'].head()"
   ]
  },
  {
   "cell_type": "code",
   "execution_count": 132,
   "metadata": {},
   "outputs": [],
   "source": [
    "boston_calendar_df.fillna('', inplace=True)\n",
    "boston_reviews_df.fillna('', inplace=True)\n",
    "boston_listings_df.fillna('', inplace=True)\n",
    "\n",
    "seattle_calendar_df.fillna('', inplace=True)\n",
    "seattle_reviews_df.fillna('', inplace=True)\n",
    "seattle_listings_df.fillna('', inplace=True)"
   ]
  },
  {
   "cell_type": "code",
   "execution_count": 133,
   "metadata": {},
   "outputs": [],
   "source": [
    "#boston_calendar_df.rename(columns={\"date\":\"calendar_date\", \"available\":\"calendar_available\"}, inplace=True)\n",
    "boston_calendar_df['listing_id'] = boston_calendar_df['listing_id'].astype('uint16')\n",
    "\n",
    "boston_reviews_df.rename(columns={\"date\":\"review_date\", \"comments\":\"review_comments\"}, inplace=True)\n",
    "#boston_reviews_df['reviewer_id'] = boston_reviews_df['reviewer_id'].astype('int64')\n",
    "\n",
    "boston_listings_df.rename(columns={\"name\":\"house_name\"}, inplace=True)\n",
    "boston_listings_df['number_of_reviews'] = boston_listings_df['number_of_reviews'].astype('uint8')\n",
    "boston_listings_df['availability_365'] = boston_listings_df['availability_365'].astype('uint8')\n",
    "boston_listings_df['review_scores_rating'] = pd.to_numeric(boston_listings_df['review_scores_rating'], errors='coerce')\n",
    "boston_listings_df.rename(columns={'price':'price($)'}, inplace=True)\n",
    "boston_listings_df['price($)'] = boston_listings_df['price($)'].map(lambda x: x.lstrip('$'))\n",
    "boston_listings_df['price($)'] = pd.to_numeric(boston_listings_df['price($)'], errors='coerce')\n",
    "\n",
    "\n",
    "#seattle_calendar_df.rename(columns={\"date\":\"calendar_date\", \"available\":\"calendar_available\"}, inplace=True)\n",
    "seattle_calendar_df['listing_id'] = seattle_calendar_df['listing_id'].astype('uint16')\n",
    "\n",
    "seattle_reviews_df.rename(columns={\"date\":\"review_date\", \"comments\":\"review_comments\"}, inplace=True)\n",
    "#seattle_reviews_df['reviewer_id'] = seattle_reviews_df['reviewer_id'].astype('int64')\n",
    "\n",
    "seattle_listings_df.rename(columns={\"name\":\"house_name\"}, inplace=True)\n",
    "seattle_listings_df['number_of_reviews'] = seattle_listings_df['number_of_reviews'].astype('uint8')\n",
    "seattle_listings_df['availability_365'] = seattle_listings_df['availability_365'].astype('uint8')\n",
    "seattle_listings_df['review_scores_rating'] = pd.to_numeric(seattle_listings_df['review_scores_rating'], errors='coerce')\n",
    "seattle_listings_df.rename(columns={'price':'price($)'}, inplace=True)\n",
    "seattle_listings_df['price($)'] = seattle_listings_df['price($)'].map(lambda x: x.lstrip('$'))\n",
    "seattle_listings_df['price($)'] = pd.to_numeric(seattle_listings_df['price($)'], errors='coerce')"
   ]
  },
  {
   "cell_type": "code",
   "execution_count": 134,
   "metadata": {},
   "outputs": [],
   "source": [
    "boston_calendar_df = boston_calendar_df[[\n",
    "          \"listing_id\"\n",
    "]]\n",
    "\n",
    "boston_reviews_df = boston_reviews_df[[\n",
    "          \"listing_id\"\n",
    "        , \"review_comments\"\n",
    "]]\n",
    "\n",
    "boston_listings_df = boston_listings_df[[\n",
    "        \"id\"\n",
    "      , \"smart_location\"\n",
    "      , \"price($)\"\n",
    "      , \"availability_365\"\n",
    "      , \"number_of_reviews\"\n",
    "      , \"review_scores_rating\"\n",
    "      , \"house_name\"\n",
    "      , \"description\"\n",
    "      , \"neighborhood_overview\"\n",
    "      , \"host_verifications\"\n",
    "      , \"latitude\"\n",
    "      , \"longitude\"\n",
    "      , \"property_type\"\n",
    "      , \"room_type\"\n",
    "]]\n",
    "\n",
    "boston_combined_df = boston_calendar_df.merge(boston_listings_df, how=\"left\", left_on=\"listing_id\", right_on=\"id\")\n",
    "boston_combined_df.drop(['id'], axis=1, inplace=True)\n",
    "\n",
    "boston_combined_df = boston_combined_df.merge(boston_reviews_df, how=\"left\", on=\"listing_id\")"
   ]
  },
  {
   "cell_type": "code",
   "execution_count": 135,
   "metadata": {},
   "outputs": [],
   "source": [
    "seattle_calendar_df = seattle_calendar_df[[\n",
    "          \"listing_id\"\n",
    "]]\n",
    "\n",
    "seattle_reviews_df = seattle_reviews_df[[\n",
    "          \"listing_id\"\n",
    "        , \"review_comments\"\n",
    "]]\n",
    "\n",
    "seattle_listings_df = seattle_listings_df[[\n",
    "        \"id\"\n",
    "      , \"smart_location\"\n",
    "      , \"price($)\"\n",
    "      , \"availability_365\"\n",
    "      , \"number_of_reviews\"\n",
    "      , \"review_scores_rating\"\n",
    "      , \"house_name\"\n",
    "      , \"description\"\n",
    "      , \"neighborhood_overview\"\n",
    "      , \"host_verifications\"\n",
    "      , \"latitude\"\n",
    "      , \"longitude\"\n",
    "      , \"property_type\"\n",
    "      , \"room_type\"\n",
    "]]\n",
    "\n",
    "seattle_combined_df = seattle_calendar_df.merge(seattle_listings_df, how=\"left\", left_on=\"listing_id\", right_on=\"id\")\n",
    "seattle_combined_df.drop(['id'], axis=1, inplace=True)\n",
    "\n",
    "seattle_combined_df = seattle_combined_df.merge(seattle_reviews_df, how=\"left\", on=\"listing_id\")"
   ]
  },
  {
   "cell_type": "code",
   "execution_count": 136,
   "metadata": {},
   "outputs": [
    {
     "output_type": "execute_result",
     "data": {
      "text/plain": [
       "(2322130, 15)"
      ]
     },
     "metadata": {},
     "execution_count": 136
    }
   ],
   "source": [
    "boston_combined_df.shape"
   ]
  },
  {
   "cell_type": "code",
   "execution_count": 137,
   "metadata": {},
   "outputs": [
    {
     "output_type": "execute_result",
     "data": {
      "text/plain": [
       "(2851745, 15)"
      ]
     },
     "metadata": {},
     "execution_count": 137
    }
   ],
   "source": [
    "seattle_combined_df.shape"
   ]
  },
  {
   "cell_type": "code",
   "execution_count": 138,
   "metadata": {},
   "outputs": [],
   "source": [
    "boston_combined_df.dropna(inplace=True)\n",
    "seattle_combined_df.dropna(inplace=True)"
   ]
  },
  {
   "cell_type": "code",
   "execution_count": 139,
   "metadata": {},
   "outputs": [
    {
     "output_type": "execute_result",
     "data": {
      "text/plain": [
       "(1036965, 15)"
      ]
     },
     "metadata": {},
     "execution_count": 139
    }
   ],
   "source": [
    "boston_combined_df.shape"
   ]
  },
  {
   "cell_type": "code",
   "execution_count": 140,
   "metadata": {},
   "outputs": [
    {
     "output_type": "execute_result",
     "data": {
      "text/plain": [
       "(1477155, 15)"
      ]
     },
     "metadata": {},
     "execution_count": 140
    }
   ],
   "source": [
    "seattle_combined_df.shape"
   ]
  },
  {
   "cell_type": "code",
   "execution_count": 141,
   "metadata": {},
   "outputs": [
    {
     "output_type": "execute_result",
     "data": {
      "text/plain": [
       "(2514120, 15)"
      ]
     },
     "metadata": {},
     "execution_count": 141
    }
   ],
   "source": [
    "all_combined_df = boston_combined_df.append(seattle_combined_df)\n",
    "all_combined_df.rename(columns={'price':'price($)'}, inplace=True)\n",
    "all_combined_df.shape"
   ]
  },
  {
   "cell_type": "code",
   "execution_count": 142,
   "metadata": {},
   "outputs": [
    {
     "output_type": "execute_result",
     "data": {
      "text/plain": [
       "     listing_id smart_location  price($)  availability_365  number_of_reviews  \\\n",
       "730        6976     Boston, MA      65.0              63.0               41.0   \n",
       "731        6976     Boston, MA      65.0              63.0               41.0   \n",
       "732        6976     Boston, MA      65.0              63.0               41.0   \n",
       "733        6976     Boston, MA      65.0              63.0               41.0   \n",
       "734        6976     Boston, MA      65.0              63.0               41.0   \n",
       "\n",
       "     review_scores_rating                        house_name  \\\n",
       "730                  98.0  Mexican Folk Art Haven in Boston   \n",
       "731                  98.0  Mexican Folk Art Haven in Boston   \n",
       "732                  98.0  Mexican Folk Art Haven in Boston   \n",
       "733                  98.0  Mexican Folk Art Haven in Boston   \n",
       "734                  98.0  Mexican Folk Art Haven in Boston   \n",
       "\n",
       "                                           description  \\\n",
       "730  Come stay with a friendly, middle-aged guy in ...   \n",
       "731  Come stay with a friendly, middle-aged guy in ...   \n",
       "732  Come stay with a friendly, middle-aged guy in ...   \n",
       "733  Come stay with a friendly, middle-aged guy in ...   \n",
       "734  Come stay with a friendly, middle-aged guy in ...   \n",
       "\n",
       "                                 neighborhood_overview  \\\n",
       "730  The LOCATION: Roslindale is a safe and diverse...   \n",
       "731  The LOCATION: Roslindale is a safe and diverse...   \n",
       "732  The LOCATION: Roslindale is a safe and diverse...   \n",
       "733  The LOCATION: Roslindale is a safe and diverse...   \n",
       "734  The LOCATION: Roslindale is a safe and diverse...   \n",
       "\n",
       "                         host_verifications   latitude  longitude  \\\n",
       "730  ['email', 'phone', 'reviews', 'jumio']  42.292438 -71.135765   \n",
       "731  ['email', 'phone', 'reviews', 'jumio']  42.292438 -71.135765   \n",
       "732  ['email', 'phone', 'reviews', 'jumio']  42.292438 -71.135765   \n",
       "733  ['email', 'phone', 'reviews', 'jumio']  42.292438 -71.135765   \n",
       "734  ['email', 'phone', 'reviews', 'jumio']  42.292438 -71.135765   \n",
       "\n",
       "    property_type     room_type  \\\n",
       "730     Apartment  Private room   \n",
       "731     Apartment  Private room   \n",
       "732     Apartment  Private room   \n",
       "733     Apartment  Private room   \n",
       "734     Apartment  Private room   \n",
       "\n",
       "                                       review_comments  \n",
       "730  A Wonderful, pleasant, and charming host.  The...  \n",
       "731  Firstly Phil is a great host! He's very helpfu...  \n",
       "732  Phil was a great host and his home was very co...  \n",
       "733  Phil is a very friendly host and I felt safe a...  \n",
       "734  Firstly, the room itself was very comfortable ...  "
      ],
      "text/html": "<div>\n<style scoped>\n    .dataframe tbody tr th:only-of-type {\n        vertical-align: middle;\n    }\n\n    .dataframe tbody tr th {\n        vertical-align: top;\n    }\n\n    .dataframe thead th {\n        text-align: right;\n    }\n</style>\n<table border=\"1\" class=\"dataframe\">\n  <thead>\n    <tr style=\"text-align: right;\">\n      <th></th>\n      <th>listing_id</th>\n      <th>smart_location</th>\n      <th>price($)</th>\n      <th>availability_365</th>\n      <th>number_of_reviews</th>\n      <th>review_scores_rating</th>\n      <th>house_name</th>\n      <th>description</th>\n      <th>neighborhood_overview</th>\n      <th>host_verifications</th>\n      <th>latitude</th>\n      <th>longitude</th>\n      <th>property_type</th>\n      <th>room_type</th>\n      <th>review_comments</th>\n    </tr>\n  </thead>\n  <tbody>\n    <tr>\n      <th>730</th>\n      <td>6976</td>\n      <td>Boston, MA</td>\n      <td>65.0</td>\n      <td>63.0</td>\n      <td>41.0</td>\n      <td>98.0</td>\n      <td>Mexican Folk Art Haven in Boston</td>\n      <td>Come stay with a friendly, middle-aged guy in ...</td>\n      <td>The LOCATION: Roslindale is a safe and diverse...</td>\n      <td>['email', 'phone', 'reviews', 'jumio']</td>\n      <td>42.292438</td>\n      <td>-71.135765</td>\n      <td>Apartment</td>\n      <td>Private room</td>\n      <td>A Wonderful, pleasant, and charming host.  The...</td>\n    </tr>\n    <tr>\n      <th>731</th>\n      <td>6976</td>\n      <td>Boston, MA</td>\n      <td>65.0</td>\n      <td>63.0</td>\n      <td>41.0</td>\n      <td>98.0</td>\n      <td>Mexican Folk Art Haven in Boston</td>\n      <td>Come stay with a friendly, middle-aged guy in ...</td>\n      <td>The LOCATION: Roslindale is a safe and diverse...</td>\n      <td>['email', 'phone', 'reviews', 'jumio']</td>\n      <td>42.292438</td>\n      <td>-71.135765</td>\n      <td>Apartment</td>\n      <td>Private room</td>\n      <td>Firstly Phil is a great host! He's very helpfu...</td>\n    </tr>\n    <tr>\n      <th>732</th>\n      <td>6976</td>\n      <td>Boston, MA</td>\n      <td>65.0</td>\n      <td>63.0</td>\n      <td>41.0</td>\n      <td>98.0</td>\n      <td>Mexican Folk Art Haven in Boston</td>\n      <td>Come stay with a friendly, middle-aged guy in ...</td>\n      <td>The LOCATION: Roslindale is a safe and diverse...</td>\n      <td>['email', 'phone', 'reviews', 'jumio']</td>\n      <td>42.292438</td>\n      <td>-71.135765</td>\n      <td>Apartment</td>\n      <td>Private room</td>\n      <td>Phil was a great host and his home was very co...</td>\n    </tr>\n    <tr>\n      <th>733</th>\n      <td>6976</td>\n      <td>Boston, MA</td>\n      <td>65.0</td>\n      <td>63.0</td>\n      <td>41.0</td>\n      <td>98.0</td>\n      <td>Mexican Folk Art Haven in Boston</td>\n      <td>Come stay with a friendly, middle-aged guy in ...</td>\n      <td>The LOCATION: Roslindale is a safe and diverse...</td>\n      <td>['email', 'phone', 'reviews', 'jumio']</td>\n      <td>42.292438</td>\n      <td>-71.135765</td>\n      <td>Apartment</td>\n      <td>Private room</td>\n      <td>Phil is a very friendly host and I felt safe a...</td>\n    </tr>\n    <tr>\n      <th>734</th>\n      <td>6976</td>\n      <td>Boston, MA</td>\n      <td>65.0</td>\n      <td>63.0</td>\n      <td>41.0</td>\n      <td>98.0</td>\n      <td>Mexican Folk Art Haven in Boston</td>\n      <td>Come stay with a friendly, middle-aged guy in ...</td>\n      <td>The LOCATION: Roslindale is a safe and diverse...</td>\n      <td>['email', 'phone', 'reviews', 'jumio']</td>\n      <td>42.292438</td>\n      <td>-71.135765</td>\n      <td>Apartment</td>\n      <td>Private room</td>\n      <td>Firstly, the room itself was very comfortable ...</td>\n    </tr>\n  </tbody>\n</table>\n</div>"
     },
     "metadata": {},
     "execution_count": 142
    }
   ],
   "source": [
    "all_combined_df.head()"
   ]
  },
  {
   "cell_type": "code",
   "execution_count": 96,
   "metadata": {},
   "outputs": [
    {
     "output_type": "execute_result",
     "data": {
      "text/plain": [
       "array([ 65., 185.,  95., 725., 375., 250., 145.,  75., 195., 229., 279.,\n",
       "       135., 225., 289., 209., 251., 389., 342., 359., 165., 299., 399.,\n",
       "       451., 285., 329.,  70., 295., 125., 235., 249., 270., 200., 175.,\n",
       "       349., 150., 154., 309.,  99., 259., 155.,  55., 126.,  40., 100.,\n",
       "        80., 115.,  89.,  79.,  59.,  90., 310., 120.,  60., 107., 220.,\n",
       "       186., 147., 187., 215.,  48., 137., 109.,  86.,  85., 119., 360.,\n",
       "       199.,  82., 275.,  97.])"
      ]
     },
     "metadata": {},
     "execution_count": 96
    }
   ],
   "source": [
    "all_combined_df['price($)'].unique()"
   ]
  },
  {
   "cell_type": "code",
   "execution_count": 105,
   "metadata": {},
   "outputs": [
    {
     "output_type": "execute_result",
     "data": {
      "text/plain": [
       "Entire home/apt    1501245\n",
       "Private room       1012875\n",
       "Name: room_type, dtype: int64"
      ]
     },
     "metadata": {},
     "execution_count": 105
    }
   ],
   "source": [
    "all_combined_df['room_type'].value_counts()"
   ]
  },
  {
   "source": [
    "# 1) Correlation between Rating Score and Availability"
   ],
   "cell_type": "markdown",
   "metadata": {}
  },
  {
   "cell_type": "code",
   "execution_count": null,
   "metadata": {},
   "outputs": [],
   "source": []
  },
  {
   "source": [
    "# 2) Word Cloud for Review Comments"
   ],
   "cell_type": "markdown",
   "metadata": {}
  },
  {
   "cell_type": "code",
   "execution_count": null,
   "metadata": {},
   "outputs": [],
   "source": []
  },
  {
   "source": [
    "# 3) Low price houses vs. number of reviews and ratings. Are there more reviews and lower ratings for low-priced houses/flats? or vice-versa?"
   ],
   "cell_type": "markdown",
   "metadata": {}
  },
  {
   "cell_type": "code",
   "execution_count": null,
   "metadata": {},
   "outputs": [],
   "source": []
  }
 ]
}