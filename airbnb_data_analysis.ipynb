{
 "metadata": {
  "language_info": {
   "codemirror_mode": {
    "name": "ipython",
    "version": 3
   },
   "file_extension": ".py",
   "mimetype": "text/x-python",
   "name": "python",
   "nbconvert_exporter": "python",
   "pygments_lexer": "ipython3",
   "version": "3.9.1-final"
  },
  "orig_nbformat": 2,
  "kernelspec": {
   "name": "python391jvsc74a57bd0330a04bcc02bd70e0e7c3b082b35cb6365c0d1be7b1de89feed4c5730f870e33",
   "display_name": "Python 3.9.1 64-bit ('DataAnalysis': conda)"
  }
 },
 "nbformat": 4,
 "nbformat_minor": 2,
 "cells": [
  {
   "cell_type": "code",
   "execution_count": 105,
   "metadata": {},
   "outputs": [],
   "source": [
    "\"\"\"\n",
    "Project: Seattle and Boston AirBNB Data Analysis\n",
    "\"\"\"\n",
    "\n",
    "# Load libraries\n",
    "import pandas as pd\n",
    "import numpy as np"
   ]
  },
  {
   "cell_type": "code",
   "execution_count": 106,
   "metadata": {},
   "outputs": [],
   "source": [
    "# Read csv files for both Seattle and Boston\n",
    "boston_calendar_df = pd.read_csv(r'D:\\GitHub\\Seattle-and-Boston-AirBNB-Data-Analysis\\data\\boston-calendar.csv')\n",
    "boston_listings_df = pd.read_csv(r'D:\\GitHub\\Seattle-and-Boston-AirBNB-Data-Analysis\\data\\boston-listings.csv')\n",
    "boston_reviews_df = pd.read_csv(r'D:\\GitHub\\Seattle-and-Boston-AirBNB-Data-Analysis\\data\\boston-reviews.csv')\n",
    "seattle_calendar_df = pd.read_csv(r'D:\\GitHub\\Seattle-and-Boston-AirBNB-Data-Analysis\\data\\seattle-calendar.csv')\n",
    "seattle_listings_df = pd.read_csv(r'D:\\GitHub\\Seattle-and-Boston-AirBNB-Data-Analysis\\data\\seattle-listings.csv')\n",
    "seattle_reviews_df = pd.read_csv(r'D:\\GitHub\\Seattle-and-Boston-AirBNB-Data-Analysis\\data\\seattle-reviews.csv')"
   ]
  },
  {
   "cell_type": "code",
   "execution_count": 107,
   "metadata": {},
   "outputs": [
    {
     "output_type": "stream",
     "name": "stdout",
     "text": [
      "boston_calendar_df's shape: (1308890, 4)\nboston_listings_df's shape: (3585, 95)\nboston_reviews_df's shape: (68275, 6)\nseattle_calendar_df's shape: (1393570, 4)\nseattle_listings_df's shape: (3818, 92)\nseattle_reviews_df's shape: (84849, 6)\n"
     ]
    }
   ],
   "source": [
    "# Print dataframes' shapes\n",
    "print(\"boston_calendar_df's shape: {}\".format(boston_calendar_df.shape))\n",
    "print(\"boston_listings_df's shape: {}\".format(boston_listings_df.shape))\n",
    "print(\"boston_reviews_df's shape: {}\".format(boston_reviews_df.shape))\n",
    "print(\"seattle_calendar_df's shape: {}\".format(seattle_calendar_df.shape))\n",
    "print(\"seattle_listings_df's shape: {}\".format(seattle_listings_df.shape))\n",
    "print(\"seattle_reviews_df's shape: {}\".format(seattle_reviews_df.shape))"
   ]
  },
  {
   "cell_type": "code",
   "execution_count": 108,
   "metadata": {},
   "outputs": [],
   "source": [
    "boston_calendar_df.dropna(inplace=True)\n",
    "boston_listings_df.dropna(inplace=True)\n",
    "boston_reviews_df.dropna(inplace=True)\n",
    "seattle_calendar_df.dropna(inplace=True)\n",
    "seattle_listings_df.dropna(inplace=True)\n",
    "seattle_reviews_df.dropna(inplace=True)"
   ]
  },
  {
   "cell_type": "code",
   "execution_count": 112,
   "metadata": {},
   "outputs": [],
   "source": [
    "boston_calendar_df['listing_id'] = boston_calendar_df['listing_id'].astype('uint16')\n",
    "boston_reviews_df['reviewer_id'] = boston_reviews_df['reviewer_id'].astype('int64')\n",
    "boston_listings_df['number_of_reviews'] = boston_listings_df['number_of_reviews'].astype('uint8')\n",
    "boston_listings_df['availability_365'] = boston_listings_df['availability_365'].astype('uint8')\n",
    "boston_listings_df['review_scores_rating'] = boston_listings_df['review_scores_rating'].astype('uint8')\n",
    "boston_listings_df.rename(columns={'price':'price($)'}, inplace=True)\n",
    "boston_listings_df['price($)'] = boston_listings_df['price($)'].map(lambda x: x.lstrip('$'))\n",
    "boston_listings_df['price($)'] = boston_listings_df['price($)'].astype('uint8')\n",
    "\n",
    "seattle_calendar_df['listing_id'] = seattle_calendar_df['listing_id'].astype('uint16')\n",
    "seattle_reviews_df['reviewer_id'] = seattle_reviews_df['reviewer_id'].astype('int64')\n",
    "seattle_listings_df['number_of_reviews'] = seattle_listings_df['number_of_reviews'].astype('uint8')\n",
    "seattle_listings_df['availability_365'] = seattle_listings_df['availability_365'].astype('uint8')\n",
    "seattle_listings_df['review_scores_rating'] = seattle_listings_df['review_scores_rating'].astype('uint8')\n",
    "seattle_listings_df.rename(columns={'price':'price($)'}, inplace=True)\n",
    "seattle_listings_df['price($)'] = seattle_listings_df['price($)'].map(lambda x: x.lstrip('$'))\n",
    "seattle_listings_df['price($)'] = seattle_listings_df['price($)'].astype('uint8')"
   ]
  },
  {
   "cell_type": "code",
   "execution_count": 115,
   "metadata": {},
   "outputs": [
    {
     "output_type": "error",
     "ename": "KeyError",
     "evalue": "\"['date', 'available'] not in index\"",
     "traceback": [
      "\u001b[1;31m---------------------------------------------------------------------------\u001b[0m",
      "\u001b[1;31mKeyError\u001b[0m                                  Traceback (most recent call last)",
      "\u001b[1;32m<ipython-input-115-30d6a26b66e6>\u001b[0m in \u001b[0;36m<module>\u001b[1;34m\u001b[0m\n\u001b[1;32m----> 1\u001b[1;33m boston_calendar_df = boston_calendar_df[[\n\u001b[0m\u001b[0;32m      2\u001b[0m           \u001b[1;34m\"listing_id\"\u001b[0m\u001b[1;33m\u001b[0m\u001b[1;33m\u001b[0m\u001b[0m\n\u001b[0;32m      3\u001b[0m         \u001b[1;33m,\u001b[0m \u001b[1;34m\"date\"\u001b[0m\u001b[1;33m\u001b[0m\u001b[1;33m\u001b[0m\u001b[0m\n\u001b[0;32m      4\u001b[0m         \u001b[1;33m,\u001b[0m \u001b[1;34m\"available\"\u001b[0m\u001b[1;33m\u001b[0m\u001b[1;33m\u001b[0m\u001b[0m\n\u001b[0;32m      5\u001b[0m ]]\n",
      "\u001b[1;32mC:\\Anaconda3\\envs\\DataAnalysis\\lib\\site-packages\\pandas\\core\\frame.py\u001b[0m in \u001b[0;36m__getitem__\u001b[1;34m(self, key)\u001b[0m\n\u001b[0;32m   3028\u001b[0m             \u001b[1;32mif\u001b[0m \u001b[0mis_iterator\u001b[0m\u001b[1;33m(\u001b[0m\u001b[0mkey\u001b[0m\u001b[1;33m)\u001b[0m\u001b[1;33m:\u001b[0m\u001b[1;33m\u001b[0m\u001b[1;33m\u001b[0m\u001b[0m\n\u001b[0;32m   3029\u001b[0m                 \u001b[0mkey\u001b[0m \u001b[1;33m=\u001b[0m \u001b[0mlist\u001b[0m\u001b[1;33m(\u001b[0m\u001b[0mkey\u001b[0m\u001b[1;33m)\u001b[0m\u001b[1;33m\u001b[0m\u001b[1;33m\u001b[0m\u001b[0m\n\u001b[1;32m-> 3030\u001b[1;33m             \u001b[0mindexer\u001b[0m \u001b[1;33m=\u001b[0m \u001b[0mself\u001b[0m\u001b[1;33m.\u001b[0m\u001b[0mloc\u001b[0m\u001b[1;33m.\u001b[0m\u001b[0m_get_listlike_indexer\u001b[0m\u001b[1;33m(\u001b[0m\u001b[0mkey\u001b[0m\u001b[1;33m,\u001b[0m \u001b[0maxis\u001b[0m\u001b[1;33m=\u001b[0m\u001b[1;36m1\u001b[0m\u001b[1;33m,\u001b[0m \u001b[0mraise_missing\u001b[0m\u001b[1;33m=\u001b[0m\u001b[1;32mTrue\u001b[0m\u001b[1;33m)\u001b[0m\u001b[1;33m[\u001b[0m\u001b[1;36m1\u001b[0m\u001b[1;33m]\u001b[0m\u001b[1;33m\u001b[0m\u001b[1;33m\u001b[0m\u001b[0m\n\u001b[0m\u001b[0;32m   3031\u001b[0m \u001b[1;33m\u001b[0m\u001b[0m\n\u001b[0;32m   3032\u001b[0m         \u001b[1;31m# take() does not accept boolean indexers\u001b[0m\u001b[1;33m\u001b[0m\u001b[1;33m\u001b[0m\u001b[1;33m\u001b[0m\u001b[0m\n",
      "\u001b[1;32mC:\\Anaconda3\\envs\\DataAnalysis\\lib\\site-packages\\pandas\\core\\indexing.py\u001b[0m in \u001b[0;36m_get_listlike_indexer\u001b[1;34m(self, key, axis, raise_missing)\u001b[0m\n\u001b[0;32m   1264\u001b[0m             \u001b[0mkeyarr\u001b[0m\u001b[1;33m,\u001b[0m \u001b[0mindexer\u001b[0m\u001b[1;33m,\u001b[0m \u001b[0mnew_indexer\u001b[0m \u001b[1;33m=\u001b[0m \u001b[0max\u001b[0m\u001b[1;33m.\u001b[0m\u001b[0m_reindex_non_unique\u001b[0m\u001b[1;33m(\u001b[0m\u001b[0mkeyarr\u001b[0m\u001b[1;33m)\u001b[0m\u001b[1;33m\u001b[0m\u001b[1;33m\u001b[0m\u001b[0m\n\u001b[0;32m   1265\u001b[0m \u001b[1;33m\u001b[0m\u001b[0m\n\u001b[1;32m-> 1266\u001b[1;33m         \u001b[0mself\u001b[0m\u001b[1;33m.\u001b[0m\u001b[0m_validate_read_indexer\u001b[0m\u001b[1;33m(\u001b[0m\u001b[0mkeyarr\u001b[0m\u001b[1;33m,\u001b[0m \u001b[0mindexer\u001b[0m\u001b[1;33m,\u001b[0m \u001b[0maxis\u001b[0m\u001b[1;33m,\u001b[0m \u001b[0mraise_missing\u001b[0m\u001b[1;33m=\u001b[0m\u001b[0mraise_missing\u001b[0m\u001b[1;33m)\u001b[0m\u001b[1;33m\u001b[0m\u001b[1;33m\u001b[0m\u001b[0m\n\u001b[0m\u001b[0;32m   1267\u001b[0m         \u001b[1;32mreturn\u001b[0m \u001b[0mkeyarr\u001b[0m\u001b[1;33m,\u001b[0m \u001b[0mindexer\u001b[0m\u001b[1;33m\u001b[0m\u001b[1;33m\u001b[0m\u001b[0m\n\u001b[0;32m   1268\u001b[0m \u001b[1;33m\u001b[0m\u001b[0m\n",
      "\u001b[1;32mC:\\Anaconda3\\envs\\DataAnalysis\\lib\\site-packages\\pandas\\core\\indexing.py\u001b[0m in \u001b[0;36m_validate_read_indexer\u001b[1;34m(self, key, indexer, axis, raise_missing)\u001b[0m\n\u001b[0;32m   1314\u001b[0m             \u001b[1;32mif\u001b[0m \u001b[0mraise_missing\u001b[0m\u001b[1;33m:\u001b[0m\u001b[1;33m\u001b[0m\u001b[1;33m\u001b[0m\u001b[0m\n\u001b[0;32m   1315\u001b[0m                 \u001b[0mnot_found\u001b[0m \u001b[1;33m=\u001b[0m \u001b[0mlist\u001b[0m\u001b[1;33m(\u001b[0m\u001b[0mset\u001b[0m\u001b[1;33m(\u001b[0m\u001b[0mkey\u001b[0m\u001b[1;33m)\u001b[0m \u001b[1;33m-\u001b[0m \u001b[0mset\u001b[0m\u001b[1;33m(\u001b[0m\u001b[0max\u001b[0m\u001b[1;33m)\u001b[0m\u001b[1;33m)\u001b[0m\u001b[1;33m\u001b[0m\u001b[1;33m\u001b[0m\u001b[0m\n\u001b[1;32m-> 1316\u001b[1;33m                 \u001b[1;32mraise\u001b[0m \u001b[0mKeyError\u001b[0m\u001b[1;33m(\u001b[0m\u001b[1;34mf\"{not_found} not in index\"\u001b[0m\u001b[1;33m)\u001b[0m\u001b[1;33m\u001b[0m\u001b[1;33m\u001b[0m\u001b[0m\n\u001b[0m\u001b[0;32m   1317\u001b[0m \u001b[1;33m\u001b[0m\u001b[0m\n\u001b[0;32m   1318\u001b[0m             \u001b[0mnot_found\u001b[0m \u001b[1;33m=\u001b[0m \u001b[0mkey\u001b[0m\u001b[1;33m[\u001b[0m\u001b[0mmissing_mask\u001b[0m\u001b[1;33m]\u001b[0m\u001b[1;33m\u001b[0m\u001b[1;33m\u001b[0m\u001b[0m\n",
      "\u001b[1;31mKeyError\u001b[0m: \"['date', 'available'] not in index\""
     ]
    }
   ],
   "source": [
    "boston_calendar_df = boston_calendar_df[[\n",
    "          \"listing_id\"\n",
    "        , \"date\"\n",
    "        , \"available\"\n",
    "]]\n",
    "\n",
    "boston_calendar_df.rename(columns={\"date\":\"calendar_date\", \"available\":\"calendar_available\"}, inplace=True)\n",
    "\n",
    "boston_reviews_df = boston_reviews_df[[\n",
    "          \"listing_id\"\n",
    "        , \"date\"\n",
    "        , \"reviewer_id\"\n",
    "]]\n",
    "\n",
    "boston_reviews_df.rename(columns={\"date\":\"review_date\", \"comments\":\"review_comments\"}, inplace=True)\n",
    "\n",
    "boston_listings_df = boston_listings_df[[\n",
    "        \"id\"\n",
    "      , \"smart_location\"\n",
    "      , \"room_type\"\n",
    "      , \"price($)\"\n",
    "      , \"availability_365\"\n",
    "      , \"number_of_reviews\"\n",
    "      , \"review_scores_rating\"\n",
    "]]\n",
    "\n",
    "boston_combined_df = boston_calendar_df.merge(boston_listings_df, how=\"left\", left_on=\"listing_id\", right_on=\"id\")\n",
    "boston_combined_df.drop(['id'], axis=1, inplace=True)\n",
    "\n",
    "boston_combined_df = boston_combined_df.merge(boston_reviews_df, how=\"left\", on=\"listing_id\")"
   ]
  },
  {
   "cell_type": "code",
   "execution_count": 118,
   "metadata": {},
   "outputs": [
    {
     "output_type": "error",
     "ename": "KeyError",
     "evalue": "\"['date', 'available'] not in index\"",
     "traceback": [
      "\u001b[1;31m---------------------------------------------------------------------------\u001b[0m",
      "\u001b[1;31mKeyError\u001b[0m                                  Traceback (most recent call last)",
      "\u001b[1;32m<ipython-input-118-5120d0928bff>\u001b[0m in \u001b[0;36m<module>\u001b[1;34m\u001b[0m\n\u001b[1;32m----> 1\u001b[1;33m seattle_calendar_df = seattle_calendar_df[[\n\u001b[0m\u001b[0;32m      2\u001b[0m           \u001b[1;34m\"listing_id\"\u001b[0m\u001b[1;33m\u001b[0m\u001b[1;33m\u001b[0m\u001b[0m\n\u001b[0;32m      3\u001b[0m         \u001b[1;33m,\u001b[0m \u001b[1;34m\"date\"\u001b[0m\u001b[1;33m\u001b[0m\u001b[1;33m\u001b[0m\u001b[0m\n\u001b[0;32m      4\u001b[0m         \u001b[1;33m,\u001b[0m \u001b[1;34m\"available\"\u001b[0m\u001b[1;33m\u001b[0m\u001b[1;33m\u001b[0m\u001b[0m\n\u001b[0;32m      5\u001b[0m ]]\n",
      "\u001b[1;32mC:\\Anaconda3\\envs\\DataAnalysis\\lib\\site-packages\\pandas\\core\\frame.py\u001b[0m in \u001b[0;36m__getitem__\u001b[1;34m(self, key)\u001b[0m\n\u001b[0;32m   3028\u001b[0m             \u001b[1;32mif\u001b[0m \u001b[0mis_iterator\u001b[0m\u001b[1;33m(\u001b[0m\u001b[0mkey\u001b[0m\u001b[1;33m)\u001b[0m\u001b[1;33m:\u001b[0m\u001b[1;33m\u001b[0m\u001b[1;33m\u001b[0m\u001b[0m\n\u001b[0;32m   3029\u001b[0m                 \u001b[0mkey\u001b[0m \u001b[1;33m=\u001b[0m \u001b[0mlist\u001b[0m\u001b[1;33m(\u001b[0m\u001b[0mkey\u001b[0m\u001b[1;33m)\u001b[0m\u001b[1;33m\u001b[0m\u001b[1;33m\u001b[0m\u001b[0m\n\u001b[1;32m-> 3030\u001b[1;33m             \u001b[0mindexer\u001b[0m \u001b[1;33m=\u001b[0m \u001b[0mself\u001b[0m\u001b[1;33m.\u001b[0m\u001b[0mloc\u001b[0m\u001b[1;33m.\u001b[0m\u001b[0m_get_listlike_indexer\u001b[0m\u001b[1;33m(\u001b[0m\u001b[0mkey\u001b[0m\u001b[1;33m,\u001b[0m \u001b[0maxis\u001b[0m\u001b[1;33m=\u001b[0m\u001b[1;36m1\u001b[0m\u001b[1;33m,\u001b[0m \u001b[0mraise_missing\u001b[0m\u001b[1;33m=\u001b[0m\u001b[1;32mTrue\u001b[0m\u001b[1;33m)\u001b[0m\u001b[1;33m[\u001b[0m\u001b[1;36m1\u001b[0m\u001b[1;33m]\u001b[0m\u001b[1;33m\u001b[0m\u001b[1;33m\u001b[0m\u001b[0m\n\u001b[0m\u001b[0;32m   3031\u001b[0m \u001b[1;33m\u001b[0m\u001b[0m\n\u001b[0;32m   3032\u001b[0m         \u001b[1;31m# take() does not accept boolean indexers\u001b[0m\u001b[1;33m\u001b[0m\u001b[1;33m\u001b[0m\u001b[1;33m\u001b[0m\u001b[0m\n",
      "\u001b[1;32mC:\\Anaconda3\\envs\\DataAnalysis\\lib\\site-packages\\pandas\\core\\indexing.py\u001b[0m in \u001b[0;36m_get_listlike_indexer\u001b[1;34m(self, key, axis, raise_missing)\u001b[0m\n\u001b[0;32m   1264\u001b[0m             \u001b[0mkeyarr\u001b[0m\u001b[1;33m,\u001b[0m \u001b[0mindexer\u001b[0m\u001b[1;33m,\u001b[0m \u001b[0mnew_indexer\u001b[0m \u001b[1;33m=\u001b[0m \u001b[0max\u001b[0m\u001b[1;33m.\u001b[0m\u001b[0m_reindex_non_unique\u001b[0m\u001b[1;33m(\u001b[0m\u001b[0mkeyarr\u001b[0m\u001b[1;33m)\u001b[0m\u001b[1;33m\u001b[0m\u001b[1;33m\u001b[0m\u001b[0m\n\u001b[0;32m   1265\u001b[0m \u001b[1;33m\u001b[0m\u001b[0m\n\u001b[1;32m-> 1266\u001b[1;33m         \u001b[0mself\u001b[0m\u001b[1;33m.\u001b[0m\u001b[0m_validate_read_indexer\u001b[0m\u001b[1;33m(\u001b[0m\u001b[0mkeyarr\u001b[0m\u001b[1;33m,\u001b[0m \u001b[0mindexer\u001b[0m\u001b[1;33m,\u001b[0m \u001b[0maxis\u001b[0m\u001b[1;33m,\u001b[0m \u001b[0mraise_missing\u001b[0m\u001b[1;33m=\u001b[0m\u001b[0mraise_missing\u001b[0m\u001b[1;33m)\u001b[0m\u001b[1;33m\u001b[0m\u001b[1;33m\u001b[0m\u001b[0m\n\u001b[0m\u001b[0;32m   1267\u001b[0m         \u001b[1;32mreturn\u001b[0m \u001b[0mkeyarr\u001b[0m\u001b[1;33m,\u001b[0m \u001b[0mindexer\u001b[0m\u001b[1;33m\u001b[0m\u001b[1;33m\u001b[0m\u001b[0m\n\u001b[0;32m   1268\u001b[0m \u001b[1;33m\u001b[0m\u001b[0m\n",
      "\u001b[1;32mC:\\Anaconda3\\envs\\DataAnalysis\\lib\\site-packages\\pandas\\core\\indexing.py\u001b[0m in \u001b[0;36m_validate_read_indexer\u001b[1;34m(self, key, indexer, axis, raise_missing)\u001b[0m\n\u001b[0;32m   1314\u001b[0m             \u001b[1;32mif\u001b[0m \u001b[0mraise_missing\u001b[0m\u001b[1;33m:\u001b[0m\u001b[1;33m\u001b[0m\u001b[1;33m\u001b[0m\u001b[0m\n\u001b[0;32m   1315\u001b[0m                 \u001b[0mnot_found\u001b[0m \u001b[1;33m=\u001b[0m \u001b[0mlist\u001b[0m\u001b[1;33m(\u001b[0m\u001b[0mset\u001b[0m\u001b[1;33m(\u001b[0m\u001b[0mkey\u001b[0m\u001b[1;33m)\u001b[0m \u001b[1;33m-\u001b[0m \u001b[0mset\u001b[0m\u001b[1;33m(\u001b[0m\u001b[0max\u001b[0m\u001b[1;33m)\u001b[0m\u001b[1;33m)\u001b[0m\u001b[1;33m\u001b[0m\u001b[1;33m\u001b[0m\u001b[0m\n\u001b[1;32m-> 1316\u001b[1;33m                 \u001b[1;32mraise\u001b[0m \u001b[0mKeyError\u001b[0m\u001b[1;33m(\u001b[0m\u001b[1;34mf\"{not_found} not in index\"\u001b[0m\u001b[1;33m)\u001b[0m\u001b[1;33m\u001b[0m\u001b[1;33m\u001b[0m\u001b[0m\n\u001b[0m\u001b[0;32m   1317\u001b[0m \u001b[1;33m\u001b[0m\u001b[0m\n\u001b[0;32m   1318\u001b[0m             \u001b[0mnot_found\u001b[0m \u001b[1;33m=\u001b[0m \u001b[0mkey\u001b[0m\u001b[1;33m[\u001b[0m\u001b[0mmissing_mask\u001b[0m\u001b[1;33m]\u001b[0m\u001b[1;33m\u001b[0m\u001b[1;33m\u001b[0m\u001b[0m\n",
      "\u001b[1;31mKeyError\u001b[0m: \"['date', 'available'] not in index\""
     ]
    }
   ],
   "source": [
    "seattle_calendar_df = seattle_calendar_df[[\n",
    "          \"listing_id\"\n",
    "        , \"date\"\n",
    "        , \"available\"\n",
    "]]\n",
    "\n",
    "seattle_calendar_df.rename(columns={\"date\":\"calendar_date\", \"available\":\"calendar_available\"}, inplace=True)\n",
    "\n",
    "seattle_reviews_df = seattle_reviews_df[[\n",
    "          \"listing_id\"\n",
    "        , \"date\"\n",
    "        , \"reviewer_id\"\n",
    "]]\n",
    "\n",
    "seattle_reviews_df.rename(columns={\"date\":\"review_date\", \"comments\":\"review_comments\"}, inplace=True)\n",
    "\n",
    "seattle_listings_df = seattle_listings_df[[\n",
    "        \"id\"\n",
    "      , \"smart_location\"\n",
    "      , \"room_type\"\n",
    "      , \"price($)\"\n",
    "      , \"availability_365\"\n",
    "      , \"number_of_reviews\"\n",
    "      , \"review_scores_rating\"\n",
    "]]\n",
    "\n",
    "seattle_combined_df = seattle_calendar_df.merge(seattle_listings_df, how=\"left\", left_on=\"listing_id\", right_on=\"id\")\n",
    "seattle_combined_df.drop(['id'], axis=1, inplace=True)\n",
    "\n",
    "seattle_combined_df = seattle_combined_df.merge(seattle_reviews_df, how=\"left\", on=\"listing_id\")"
   ]
  },
  {
   "cell_type": "code",
   "execution_count": null,
   "metadata": {},
   "outputs": [],
   "source": [
    "boston_combined_df.head()"
   ]
  },
  {
   "cell_type": "code",
   "execution_count": null,
   "metadata": {},
   "outputs": [],
   "source": [
    "boston_combined_df.dropna(inplace=True)\n",
    "seattle_combined_df.dropna(inplace=True)"
   ]
  },
  {
   "cell_type": "code",
   "execution_count": 89,
   "metadata": {},
   "outputs": [
    {
     "output_type": "execute_result",
     "data": {
      "text/plain": [
       "(2514120, 11)"
      ]
     },
     "metadata": {},
     "execution_count": 89
    }
   ],
   "source": [
    "all_combined_df = boston_combined_df.append(seattle_combined_df)\n",
    "all_combined_df.rename(columns={'price':'price($)'}, inplace=True)\n",
    "all_combined_df['price($)'] = all_combined_df['price($)'].map(lambda x: x.lstrip('$'))\n",
    "all_combined_df.shape"
   ]
  },
  {
   "cell_type": "code",
   "execution_count": 90,
   "metadata": {},
   "outputs": [
    {
     "output_type": "execute_result",
     "data": {
      "text/plain": [
       "     listing_id calendar_date calendar_available smart_location     room_type  \\\n",
       "730        6976    2017-05-12                  t     Boston, MA  Private room   \n",
       "731        6976    2017-05-12                  t     Boston, MA  Private room   \n",
       "732        6976    2017-05-12                  t     Boston, MA  Private room   \n",
       "733        6976    2017-05-12                  t     Boston, MA  Private room   \n",
       "734        6976    2017-05-12                  t     Boston, MA  Private room   \n",
       "\n",
       "    price($)  availability_365  number_of_reviews  review_scores_rating  \\\n",
       "730    65.00             319.0               41.0                  98.0   \n",
       "731    65.00             319.0               41.0                  98.0   \n",
       "732    65.00             319.0               41.0                  98.0   \n",
       "733    65.00             319.0               41.0                  98.0   \n",
       "734    65.00             319.0               41.0                  98.0   \n",
       "\n",
       "    review_date  reviewer_id  \n",
       "730  2009-07-19      23549.0  \n",
       "731  2010-07-23     154097.0  \n",
       "732  2011-05-23     232785.0  \n",
       "733  2011-06-28     579421.0  \n",
       "734  2011-07-24     824245.0  "
      ],
      "text/html": "<div>\n<style scoped>\n    .dataframe tbody tr th:only-of-type {\n        vertical-align: middle;\n    }\n\n    .dataframe tbody tr th {\n        vertical-align: top;\n    }\n\n    .dataframe thead th {\n        text-align: right;\n    }\n</style>\n<table border=\"1\" class=\"dataframe\">\n  <thead>\n    <tr style=\"text-align: right;\">\n      <th></th>\n      <th>listing_id</th>\n      <th>calendar_date</th>\n      <th>calendar_available</th>\n      <th>smart_location</th>\n      <th>room_type</th>\n      <th>price($)</th>\n      <th>availability_365</th>\n      <th>number_of_reviews</th>\n      <th>review_scores_rating</th>\n      <th>review_date</th>\n      <th>reviewer_id</th>\n    </tr>\n  </thead>\n  <tbody>\n    <tr>\n      <th>730</th>\n      <td>6976</td>\n      <td>2017-05-12</td>\n      <td>t</td>\n      <td>Boston, MA</td>\n      <td>Private room</td>\n      <td>65.00</td>\n      <td>319.0</td>\n      <td>41.0</td>\n      <td>98.0</td>\n      <td>2009-07-19</td>\n      <td>23549.0</td>\n    </tr>\n    <tr>\n      <th>731</th>\n      <td>6976</td>\n      <td>2017-05-12</td>\n      <td>t</td>\n      <td>Boston, MA</td>\n      <td>Private room</td>\n      <td>65.00</td>\n      <td>319.0</td>\n      <td>41.0</td>\n      <td>98.0</td>\n      <td>2010-07-23</td>\n      <td>154097.0</td>\n    </tr>\n    <tr>\n      <th>732</th>\n      <td>6976</td>\n      <td>2017-05-12</td>\n      <td>t</td>\n      <td>Boston, MA</td>\n      <td>Private room</td>\n      <td>65.00</td>\n      <td>319.0</td>\n      <td>41.0</td>\n      <td>98.0</td>\n      <td>2011-05-23</td>\n      <td>232785.0</td>\n    </tr>\n    <tr>\n      <th>733</th>\n      <td>6976</td>\n      <td>2017-05-12</td>\n      <td>t</td>\n      <td>Boston, MA</td>\n      <td>Private room</td>\n      <td>65.00</td>\n      <td>319.0</td>\n      <td>41.0</td>\n      <td>98.0</td>\n      <td>2011-06-28</td>\n      <td>579421.0</td>\n    </tr>\n    <tr>\n      <th>734</th>\n      <td>6976</td>\n      <td>2017-05-12</td>\n      <td>t</td>\n      <td>Boston, MA</td>\n      <td>Private room</td>\n      <td>65.00</td>\n      <td>319.0</td>\n      <td>41.0</td>\n      <td>98.0</td>\n      <td>2011-07-24</td>\n      <td>824245.0</td>\n    </tr>\n  </tbody>\n</table>\n</div>"
     },
     "metadata": {},
     "execution_count": 90
    }
   ],
   "source": [
    "all_combined_df.head()"
   ]
  },
  {
   "cell_type": "code",
   "execution_count": 85,
   "metadata": {},
   "outputs": [
    {
     "output_type": "execute_result",
     "data": {
      "text/plain": [
       "array(['$65.00', '$185.00', '$95.00', '$725.00', '$375.00', '$250.00',\n",
       "       '$145.00', '$75.00', '$195.00', '$229.00', '$279.00', '$135.00',\n",
       "       '$225.00', '$289.00', '$209.00', '$251.00', '$389.00', '$342.00',\n",
       "       '$359.00', '$165.00', '$299.00', '$399.00', '$451.00', '$285.00',\n",
       "       '$329.00', '$70.00', '$295.00', '$125.00', '$235.00', '$249.00',\n",
       "       '$270.00', '$200.00', '$175.00', '$349.00', '$150.00', '$154.00',\n",
       "       '$309.00', '$99.00', '$259.00', '$155.00', '$55.00', '$126.00',\n",
       "       '$40.00', '$100.00', '$80.00', '$115.00', '$89.00', '$79.00',\n",
       "       '$59.00', '$90.00', '$310.00', '$120.00', '$60.00', '$107.00',\n",
       "       '$220.00', '$186.00', '$147.00', '$187.00', '$215.00', '$48.00',\n",
       "       '$137.00', '$109.00', '$86.00', '$85.00', '$119.00', '$360.00',\n",
       "       '$199.00', '$82.00', '$275.00', '$97.00'], dtype=object)"
      ]
     },
     "metadata": {},
     "execution_count": 85
    }
   ],
   "source": [
    "all_combined_df['price'].unique()"
   ]
  },
  {
   "cell_type": "code",
   "execution_count": 5,
   "metadata": {},
   "outputs": [
    {
     "output_type": "stream",
     "name": "stdout",
     "text": [
      "boston_all_df's shape: (1308890, 105)\nseattle_all_df's shape: (1393570, 102)\n"
     ]
    }
   ],
   "source": [
    "# Print new dataframes' shapes/*\n",
    "print(\"boston_all_df's shape: {}\".format(boston_all_df.shape))\n",
    "print(\"seattle_all_df's shape: {}\".format(seattle_all_df.shape))"
   ]
  },
  {
   "cell_type": "code",
   "execution_count": null,
   "metadata": {},
   "outputs": [],
   "source": []
  }
 ]
}