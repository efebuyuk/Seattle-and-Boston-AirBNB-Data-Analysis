{
 "metadata": {
  "language_info": {
   "codemirror_mode": {
    "name": "ipython",
    "version": 3
   },
   "file_extension": ".py",
   "mimetype": "text/x-python",
   "name": "python",
   "nbconvert_exporter": "python",
   "pygments_lexer": "ipython3",
   "version": "3.9.1-final"
  },
  "orig_nbformat": 2,
  "kernelspec": {
   "name": "python3",
   "display_name": "Python 3.9.1 64-bit ('DataAnalysis': conda)",
   "metadata": {
    "interpreter": {
     "hash": "330a04bcc02bd70e0e7c3b082b35cb6365c0d1be7b1de89feed4c5730f870e33"
    }
   }
  }
 },
 "nbformat": 4,
 "nbformat_minor": 2,
 "cells": [
  {
   "cell_type": "code",
   "execution_count": 3,
   "metadata": {},
   "outputs": [],
   "source": [
    "\"\"\"\n",
    "Project: Seattle and Boston AirBNB Data Analysis\n",
    "\"\"\"\n",
    "\n",
    "# Load libraries\n",
    "import pandas as pd\n",
    "import numpy as np"
   ]
  },
  {
   "cell_type": "code",
   "execution_count": 6,
   "metadata": {},
   "outputs": [],
   "source": [
    "# Read csv files for both Seattle and Boston\n",
    "boston_calendar_df = pd.read_csv(r'D:\\GitHub\\Seattle-and-Boston-AirBNB-Data-Analysis\\data\\boston-calendar.csv')\n",
    "boston_listings_df = pd.read_csv(r'D:\\GitHub\\Seattle-and-Boston-AirBNB-Data-Analysis\\data\\boston-listings.csv')\n",
    "boston_reviews_df = pd.read_csv(r'D:\\GitHub\\Seattle-and-Boston-AirBNB-Data-Analysis\\data\\boston-reviews.csv')\n",
    "seattle_calendar_df = pd.read_csv(r'D:\\GitHub\\Seattle-and-Boston-AirBNB-Data-Analysis\\data\\seattle-calendar.csv')\n",
    "seattle_listings_df = pd.read_csv(r'D:\\GitHub\\Seattle-and-Boston-AirBNB-Data-Analysis\\data\\seattle-listings.csv')\n",
    "seattle_reviews_df = pd.read_csv(r'D:\\GitHub\\Seattle-and-Boston-AirBNB-Data-Analysis\\data\\seattle-reviews.csv')"
   ]
  },
  {
   "cell_type": "code",
   "execution_count": 22,
   "metadata": {},
   "outputs": [
    {
     "output_type": "stream",
     "name": "stdout",
     "text": [
      "boston_calendar_df's shape: (1308890, 5)\nboston_listings_df's shape: (3585, 95)\nboston_reviews_df's shape: (68275, 7)\nseattle_calendar_df's shape: (1393570, 5)\nseattle_listings_df's shape: (3818, 92)\nseattle_reviews_df's shape: (84849, 7)\n"
     ]
    }
   ],
   "source": [
    "# Print dataframes' shapes\n",
    "print(\"boston_calendar_df's shape: {}\".format(boston_calendar_df.shape))\n",
    "print(\"boston_listings_df's shape: {}\".format(boston_listings_df.shape))\n",
    "print(\"boston_reviews_df's shape: {}\".format(boston_reviews_df.shape))\n",
    "print(\"seattle_calendar_df's shape: {}\".format(seattle_calendar_df.shape))\n",
    "print(\"seattle_listings_df's shape: {}\".format(seattle_listings_df.shape))\n",
    "print(\"seattle_reviews_df's shape: {}\".format(seattle_reviews_df.shape))"
   ]
  },
  {
   "cell_type": "code",
   "execution_count": 23,
   "metadata": {},
   "outputs": [],
   "source": [
    "# Combine Boston datasets with concat() function. Its default join methos is \"outer\" which means zero information loss\n",
    "boston_frames = [boston_calendar_df, boston_listings_df, boston_reviews_df]\n",
    "boston_all_df = pd.concat(boston_frames, axis=1)\n",
    "\n",
    "# Combine Seattle datasets with concat() function. Its default join methos is \"outer\" which means zero information loss\n",
    "seattle_frames = [seattle_calendar_df, seattle_listings_df, seattle_reviews_df]\n",
    "seattle_all_df = pd.concat(seattle_frames, axis=1)"
   ]
  },
  {
   "cell_type": "code",
   "execution_count": 27,
   "metadata": {},
   "outputs": [
    {
     "output_type": "stream",
     "name": "stdout",
     "text": [
      "boston_all_df's shape: (1308890, 107)\nseattle_all_df's shape: (1393570, 104)\n"
     ]
    }
   ],
   "source": [
    "# Print new dataframes' shapes\n",
    "print(\"boston_all_df's shape: {}\".format(boston_all_df.shape))\n",
    "print(\"seattle_all_df's shape: {}\".format(seattle_all_df.shape))"
   ]
  },
  {
   "cell_type": "code",
   "execution_count": 31,
   "metadata": {},
   "outputs": [
    {
     "output_type": "stream",
     "name": "stdout",
     "text": [
      "boston_all_df's column names: \n['listing_id', 'date', 'available', 'price', 'city', 'id', 'listing_url', 'scrape_id', 'last_scraped', 'name', 'summary', 'space', 'description', 'experiences_offered', 'neighborhood_overview', 'notes', 'transit', 'access', 'interaction', 'house_rules', 'thumbnail_url', 'medium_url', 'picture_url', 'xl_picture_url', 'host_id', 'host_url', 'host_name', 'host_since', 'host_location', 'host_about', 'host_response_time', 'host_response_rate', 'host_acceptance_rate', 'host_is_superhost', 'host_thumbnail_url', 'host_picture_url', 'host_neighbourhood', 'host_listings_count', 'host_total_listings_count', 'host_verifications', 'host_has_profile_pic', 'host_identity_verified', 'street', 'neighbourhood', 'neighbourhood_cleansed', 'neighbourhood_group_cleansed', 'city', 'state', 'zipcode', 'market', 'smart_location', 'country_code', 'country', 'latitude', 'longitude', 'is_location_exact', 'property_type', 'room_type', 'accommodates', 'bathrooms', 'bedrooms', 'beds', 'bed_type', 'amenities', 'square_feet', 'price', 'weekly_price', 'monthly_price', 'security_deposit', 'cleaning_fee', 'guests_included', 'extra_people', 'minimum_nights', 'maximum_nights', 'calendar_updated', 'has_availability', 'availability_30', 'availability_60', 'availability_90', 'availability_365', 'calendar_last_scraped', 'number_of_reviews', 'first_review', 'last_review', 'review_scores_rating', 'review_scores_accuracy', 'review_scores_cleanliness', 'review_scores_checkin', 'review_scores_communication', 'review_scores_location', 'review_scores_value', 'requires_license', 'license', 'jurisdiction_names', 'instant_bookable', 'cancellation_policy', 'require_guest_profile_picture', 'require_guest_phone_verification', 'calculated_host_listings_count', 'reviews_per_month', 'listing_id', 'id', 'date', 'reviewer_id', 'reviewer_name', 'comments', 'city']\n\n\nseattle_all_df's column names: \n['listing_id', 'date', 'available', 'price', 'city', 'id', 'listing_url', 'scrape_id', 'last_scraped', 'name', 'summary', 'space', 'description', 'experiences_offered', 'neighborhood_overview', 'notes', 'transit', 'thumbnail_url', 'medium_url', 'picture_url', 'xl_picture_url', 'host_id', 'host_url', 'host_name', 'host_since', 'host_location', 'host_about', 'host_response_time', 'host_response_rate', 'host_acceptance_rate', 'host_is_superhost', 'host_thumbnail_url', 'host_picture_url', 'host_neighbourhood', 'host_listings_count', 'host_total_listings_count', 'host_verifications', 'host_has_profile_pic', 'host_identity_verified', 'street', 'neighbourhood', 'neighbourhood_cleansed', 'neighbourhood_group_cleansed', 'city', 'state', 'zipcode', 'market', 'smart_location', 'country_code', 'country', 'latitude', 'longitude', 'is_location_exact', 'property_type', 'room_type', 'accommodates', 'bathrooms', 'bedrooms', 'beds', 'bed_type', 'amenities', 'square_feet', 'price', 'weekly_price', 'monthly_price', 'security_deposit', 'cleaning_fee', 'guests_included', 'extra_people', 'minimum_nights', 'maximum_nights', 'calendar_updated', 'has_availability', 'availability_30', 'availability_60', 'availability_90', 'availability_365', 'calendar_last_scraped', 'number_of_reviews', 'first_review', 'last_review', 'review_scores_rating', 'review_scores_accuracy', 'review_scores_cleanliness', 'review_scores_checkin', 'review_scores_communication', 'review_scores_location', 'review_scores_value', 'requires_license', 'license', 'jurisdiction_names', 'instant_bookable', 'cancellation_policy', 'require_guest_profile_picture', 'require_guest_phone_verification', 'calculated_host_listings_count', 'reviews_per_month', 'listing_id', 'id', 'date', 'reviewer_id', 'reviewer_name', 'comments', 'city']\n"
     ]
    }
   ],
   "source": [
    "# Print column names of new dataframes\n",
    "boston_column_list = list(boston_all_df)\n",
    "print(\"boston_all_df's column names: \\n\" + \"{}\".format(boston_column_list) + \"\\n\\n\")\n",
    "\n",
    "seattle_column_list = list(seattle_all_df)\n",
    "print(\"seattle_all_df's column names: \\n\" + \"{}\".format(seattle_column_list))"
   ]
  },
  {
   "cell_type": "code",
   "execution_count": 32,
   "metadata": {},
   "outputs": [
    {
     "output_type": "execute_result",
     "data": {
      "text/plain": [
       "Index(['access', 'house_rules', 'interaction'], dtype='object')"
      ]
     },
     "metadata": {},
     "execution_count": 32
    }
   ],
   "source": [
    "# Check the column differences between two dataframes. We know that there are 3 more columns in boston_all_df from their shapes\n",
    "boston_all_df.columns.difference(seattle_all_df.columns)"
   ]
  },
  {
   "cell_type": "code",
   "execution_count": 33,
   "metadata": {},
   "outputs": [
    {
     "output_type": "execute_result",
     "data": {
      "text/plain": [
       "Index([], dtype='object')"
      ]
     },
     "metadata": {},
     "execution_count": 33
    }
   ],
   "source": [
    "# If we exchange dataframes' positions, then we do not get the same result as we do in the above cell \n",
    "seattle_all_df.columns.difference(boston_all_df.columns)"
   ]
  },
  {
   "cell_type": "code",
   "execution_count": 25,
   "metadata": {},
   "outputs": [
    {
     "output_type": "execute_result",
     "data": {
      "text/plain": [
       "listing_id             0\n",
       "date                   0\n",
       "available              0\n",
       "price             665853\n",
       "city                   0\n",
       "                  ...   \n",
       "date             1240615\n",
       "reviewer_id      1240615\n",
       "reviewer_name    1240615\n",
       "comments         1240668\n",
       "city             1240615\n",
       "Length: 107, dtype: int64"
      ]
     },
     "metadata": {},
     "execution_count": 25
    }
   ],
   "source": [
    "# Check NaN values in boston_all_df\n",
    "boston_all_df.isnull().sum()"
   ]
  },
  {
   "cell_type": "code",
   "execution_count": 28,
   "metadata": {},
   "outputs": [
    {
     "output_type": "execute_result",
     "data": {
      "text/plain": [
       "listing_id             0\n",
       "date                   0\n",
       "available              0\n",
       "price             459028\n",
       "city                   0\n",
       "                  ...   \n",
       "date             1308721\n",
       "reviewer_id      1308721\n",
       "reviewer_name    1308721\n",
       "comments         1308739\n",
       "city             1308721\n",
       "Length: 104, dtype: int64"
      ]
     },
     "metadata": {},
     "execution_count": 28
    }
   ],
   "source": [
    "# Check NaN values in seattle_all_df\n",
    "seattle_all_df.isnull().sum()"
   ]
  },
  {
   "cell_type": "code",
   "execution_count": null,
   "metadata": {},
   "outputs": [],
   "source": []
  }
 ]
}